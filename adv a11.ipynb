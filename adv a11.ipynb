{
 "cells": [
  {
   "cell_type": "code",
   "execution_count": null,
   "id": "dc9fcb25",
   "metadata": {},
   "outputs": [],
   "source": [
    "# Q1. What is the concept of a metaclass?\n",
    "\n",
    "A metaclass in Python is a class of a class that defines how a class behaves. \n",
    "A class is itself an instance of a metaclass. A class in Python defines how the instance of the class will behave. \n",
    "In order to understand metaclasses well, one needs to have prior experience working with Python classes."
   ]
  },
  {
   "cell_type": "code",
   "execution_count": 1,
   "id": "613a82f6",
   "metadata": {},
   "outputs": [
    {
     "name": "stdout",
     "output_type": "stream",
     "text": [
      "Vegetarian\n"
     ]
    }
   ],
   "source": [
    "# Q2. What is the best way to declare a class&#39;s metaclass?\n",
    "\n",
    "class FoodType(object):\n",
    "  def __init__(self, ftype):\n",
    "    self.ftype = ftype\n",
    "      \n",
    "  def getFtype(self):\n",
    "    return self.ftype\n",
    "    \n",
    "  \n",
    "def main():\n",
    "  fType = FoodType(ftype = 'Vegetarian')\n",
    "  print(fType.getFtype())\n",
    "    \n",
    "main()"
   ]
  },
  {
   "cell_type": "code",
   "execution_count": null,
   "id": "7d090f22",
   "metadata": {},
   "outputs": [],
   "source": [
    "# Q3. How do class decorators overlap with metaclasses for handling classes?\n",
    "\n",
    "Having said that, it's also interesting to note that the class decorators described in the preceding chapter sometimes overlap with metaclasses in terms of functionality. \n",
    "Although they are typically used for managing or augmenting instances, class decorators can also augment classes, independent of any created instances."
   ]
  },
  {
   "cell_type": "code",
   "execution_count": null,
   "id": "4a76d089",
   "metadata": {},
   "outputs": [],
   "source": [
    "#  "
   ]
  }
 ],
 "metadata": {
  "kernelspec": {
   "display_name": "Python 3 (ipykernel)",
   "language": "python",
   "name": "python3"
  },
  "language_info": {
   "codemirror_mode": {
    "name": "ipython",
    "version": 3
   },
   "file_extension": ".py",
   "mimetype": "text/x-python",
   "name": "python",
   "nbconvert_exporter": "python",
   "pygments_lexer": "ipython3",
   "version": "3.9.7"
  }
 },
 "nbformat": 4,
 "nbformat_minor": 5
}
